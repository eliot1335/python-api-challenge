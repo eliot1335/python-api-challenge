{
 "metadata": {
  "language_info": {
   "codemirror_mode": {
    "name": "ipython",
    "version": 3
   },
   "file_extension": ".py",
   "mimetype": "text/x-python",
   "name": "python",
   "nbconvert_exporter": "python",
   "pygments_lexer": "ipython3",
   "version": "3.8.3-final"
  },
  "orig_nbformat": 2,
  "kernelspec": {
   "name": "python3",
   "display_name": "Python 3.8.3 64-bit ('datavispip': conda)",
   "metadata": {
    "interpreter": {
     "hash": "c8ca10ecc8471ee9f0677057683f87ff47ab794b3f9adc34523f957990c0d05f"
    }
   }
  }
 },
 "nbformat": 4,
 "nbformat_minor": 2,
 "cells": [
  {
   "cell_type": "code",
   "execution_count": 1,
   "metadata": {},
   "outputs": [],
   "source": [
    "# Dependencies\n",
    "import json\n",
    "import requests\n",
    "import matplotlib.pyplot as plt\n",
    "import pandas as pd\n",
    "import numpy as np\n",
    "\n",
    "# Setup API Key\n",
    "from config import api_key\n",
    "\n",
    "# Import citipy to generate cities\n",
    "from citipy import citipy\n",
    "\n",
    "# Range of latitudes and longitudes\n",
    "lat_range = (-90, 90)\n",
    "lng_range = (-180, 180)"
   ]
  },
  {
   "cell_type": "code",
   "execution_count": 8,
   "metadata": {},
   "outputs": [
    {
     "output_type": "stream",
     "name": "stdout",
     "text": [
      "595\n"
     ]
    }
   ],
   "source": [
    "# Create lists to hold coordinates and cities\n",
    "coord = []\n",
    "cities = []\n",
    "\n",
    "# Create random set of latitiudes and longitudes and put them in coord[]\n",
    "lat = np.random.uniform(low=-90.000, high=90.000, size=1500)\n",
    "lng = np.random.uniform(low=-180.000, high=180.000, size=1500)\n",
    "coord = zip(lat, lng)\n",
    "\n",
    "# Id the nearest city for each coordinate\n",
    "for x in coord:\n",
    "    city = citipy.nearest_city(x[0], x[1]).city_name\n",
    "    \n",
    "    # Append the city into list if it's not already in\n",
    "    if city not in cities:\n",
    "        cities.append(city)\n",
    "\n",
    "# Visualize\n",
    "print(len(cities))"
   ]
  }
 ]
}