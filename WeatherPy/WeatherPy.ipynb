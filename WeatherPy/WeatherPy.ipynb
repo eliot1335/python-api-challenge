{
 "metadata": {
  "language_info": {
   "codemirror_mode": {
    "name": "ipython",
    "version": 3
   },
   "file_extension": ".py",
   "mimetype": "text/x-python",
   "name": "python",
   "nbconvert_exporter": "python",
   "pygments_lexer": "ipython3",
   "version": "3.8.3-final"
  },
  "orig_nbformat": 2,
  "kernelspec": {
   "name": "Python 3.8.3 64-bit ('datavispip': conda)",
   "display_name": "Python 3.8.3 64-bit ('datavispip': conda)",
   "metadata": {
    "interpreter": {
     "hash": "c8ca10ecc8471ee9f0677057683f87ff47ab794b3f9adc34523f957990c0d05f"
    }
   }
  }
 },
 "nbformat": 4,
 "nbformat_minor": 2,
 "cells": [
  {
   "cell_type": "code",
   "execution_count": null,
   "metadata": {},
   "outputs": [],
   "source": []
  }
 ]
}