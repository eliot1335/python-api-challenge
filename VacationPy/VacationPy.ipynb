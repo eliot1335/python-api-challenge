{
 "metadata": {
  "language_info": {
   "codemirror_mode": {
    "name": "ipython",
    "version": 3
   },
   "file_extension": ".py",
   "mimetype": "text/x-python",
   "name": "python",
   "nbconvert_exporter": "python",
   "pygments_lexer": "ipython3",
   "version": "3.8.3-final"
  },
  "orig_nbformat": 2,
  "kernelspec": {
   "name": "python3",
   "display_name": "Python 3.8.3 64-bit ('datavispip': conda)",
   "metadata": {
    "interpreter": {
     "hash": "c8ca10ecc8471ee9f0677057683f87ff47ab794b3f9adc34523f957990c0d05f"
    }
   }
  }
 },
 "nbformat": 4,
 "nbformat_minor": 2,
 "cells": [
  {
   "source": [
    "# VacationPy"
   ],
   "cell_type": "markdown",
   "metadata": {}
  },
  {
   "cell_type": "code",
   "execution_count": 9,
   "metadata": {},
   "outputs": [],
   "source": [
    "# Dependencies\n",
    "import matplotlib.pyplot as plt\n",
    "import pandas as pd\n",
    "import numpy as np\n",
    "import requests\n",
    "import gmaps\n",
    "import os\n",
    "import json\n",
    "\n",
    "# Import API key\n",
    "from config import gkey\n",
    "\n",
    "# Configure gmaps\n",
    "gmaps.configure(api_key= gkey)"
   ]
  },
  {
   "source": [
    " ## Store Part I results into DataFrame\n",
    " - Load the csv exported in Part I to a DataFrame"
   ],
   "cell_type": "markdown",
   "metadata": {}
  },
  {
   "cell_type": "code",
   "execution_count": 10,
   "metadata": {},
   "outputs": [
    {
     "output_type": "execute_result",
     "data": {
      "text/plain": [
       "     Unnamed: 0        City  Cloudiness Country  Humidity  Latitude  \\\n",
       "0             0      Albany         100      US        47     42.60   \n",
       "1             1     Ushuaia          75      AR        29    -54.80   \n",
       "2             2     Rikitea           3      PF        63    -23.12   \n",
       "3             3      Bethel           1      US        44     41.37   \n",
       "4             4      Barrow           1      US        85     71.29   \n",
       "..          ...         ...         ...     ...       ...       ...   \n",
       "555         555       Alofi         100      NU       100    -19.06   \n",
       "556         556     Kostino         100      RU        94     58.91   \n",
       "557         557      Lębork          40      PL        72     54.54   \n",
       "558         558  Trowbridge         100      GB        90     51.32   \n",
       "559         559     Kendari         100      ID        89     -3.94   \n",
       "\n",
       "     Longitude  Max Temperature  Wind Speed  \n",
       "0       -73.97            51.01        1.99  \n",
       "1       -68.30            66.20       10.29  \n",
       "2      -134.97            72.97        3.76  \n",
       "3       -73.41            60.80        5.82  \n",
       "4      -156.79            10.40       12.75  \n",
       "..         ...              ...         ...  \n",
       "555    -169.92            75.20        4.70  \n",
       "556      53.27            19.81        7.76  \n",
       "557      17.75            41.00       21.92  \n",
       "558      -2.21            53.01        1.01  \n",
       "559     122.50            77.74        0.58  \n",
       "\n",
       "[560 rows x 9 columns]"
      ],
      "text/html": "<div>\n<style scoped>\n    .dataframe tbody tr th:only-of-type {\n        vertical-align: middle;\n    }\n\n    .dataframe tbody tr th {\n        vertical-align: top;\n    }\n\n    .dataframe thead th {\n        text-align: right;\n    }\n</style>\n<table border=\"1\" class=\"dataframe\">\n  <thead>\n    <tr style=\"text-align: right;\">\n      <th></th>\n      <th>Unnamed: 0</th>\n      <th>City</th>\n      <th>Cloudiness</th>\n      <th>Country</th>\n      <th>Humidity</th>\n      <th>Latitude</th>\n      <th>Longitude</th>\n      <th>Max Temperature</th>\n      <th>Wind Speed</th>\n    </tr>\n  </thead>\n  <tbody>\n    <tr>\n      <th>0</th>\n      <td>0</td>\n      <td>Albany</td>\n      <td>100</td>\n      <td>US</td>\n      <td>47</td>\n      <td>42.60</td>\n      <td>-73.97</td>\n      <td>51.01</td>\n      <td>1.99</td>\n    </tr>\n    <tr>\n      <th>1</th>\n      <td>1</td>\n      <td>Ushuaia</td>\n      <td>75</td>\n      <td>AR</td>\n      <td>29</td>\n      <td>-54.80</td>\n      <td>-68.30</td>\n      <td>66.20</td>\n      <td>10.29</td>\n    </tr>\n    <tr>\n      <th>2</th>\n      <td>2</td>\n      <td>Rikitea</td>\n      <td>3</td>\n      <td>PF</td>\n      <td>63</td>\n      <td>-23.12</td>\n      <td>-134.97</td>\n      <td>72.97</td>\n      <td>3.76</td>\n    </tr>\n    <tr>\n      <th>3</th>\n      <td>3</td>\n      <td>Bethel</td>\n      <td>1</td>\n      <td>US</td>\n      <td>44</td>\n      <td>41.37</td>\n      <td>-73.41</td>\n      <td>60.80</td>\n      <td>5.82</td>\n    </tr>\n    <tr>\n      <th>4</th>\n      <td>4</td>\n      <td>Barrow</td>\n      <td>1</td>\n      <td>US</td>\n      <td>85</td>\n      <td>71.29</td>\n      <td>-156.79</td>\n      <td>10.40</td>\n      <td>12.75</td>\n    </tr>\n    <tr>\n      <th>...</th>\n      <td>...</td>\n      <td>...</td>\n      <td>...</td>\n      <td>...</td>\n      <td>...</td>\n      <td>...</td>\n      <td>...</td>\n      <td>...</td>\n      <td>...</td>\n    </tr>\n    <tr>\n      <th>555</th>\n      <td>555</td>\n      <td>Alofi</td>\n      <td>100</td>\n      <td>NU</td>\n      <td>100</td>\n      <td>-19.06</td>\n      <td>-169.92</td>\n      <td>75.20</td>\n      <td>4.70</td>\n    </tr>\n    <tr>\n      <th>556</th>\n      <td>556</td>\n      <td>Kostino</td>\n      <td>100</td>\n      <td>RU</td>\n      <td>94</td>\n      <td>58.91</td>\n      <td>53.27</td>\n      <td>19.81</td>\n      <td>7.76</td>\n    </tr>\n    <tr>\n      <th>557</th>\n      <td>557</td>\n      <td>Lębork</td>\n      <td>40</td>\n      <td>PL</td>\n      <td>72</td>\n      <td>54.54</td>\n      <td>17.75</td>\n      <td>41.00</td>\n      <td>21.92</td>\n    </tr>\n    <tr>\n      <th>558</th>\n      <td>558</td>\n      <td>Trowbridge</td>\n      <td>100</td>\n      <td>GB</td>\n      <td>90</td>\n      <td>51.32</td>\n      <td>-2.21</td>\n      <td>53.01</td>\n      <td>1.01</td>\n    </tr>\n    <tr>\n      <th>559</th>\n      <td>559</td>\n      <td>Kendari</td>\n      <td>100</td>\n      <td>ID</td>\n      <td>89</td>\n      <td>-3.94</td>\n      <td>122.50</td>\n      <td>77.74</td>\n      <td>0.58</td>\n    </tr>\n  </tbody>\n</table>\n<p>560 rows × 9 columns</p>\n</div>"
     },
     "metadata": {},
     "execution_count": 10
    }
   ],
   "source": [
    "weather_df = pd.read_csv('../Resources/weather_df.csv')\n",
    "weather_df"
   ]
  },
  {
   "source": [
    "## Humidity Heatmap\n",
    "- Configure gmaps.\n",
    "- Use the Lat and Lng as locations and Humidity as the weight.\n",
    "- Add Heatmap layer to map.\n",
    "- Create a heat map that displays the humidity for every city from the part I of the homework."
   ],
   "cell_type": "markdown",
   "metadata": {}
  },
  {
   "cell_type": "code",
   "execution_count": 11,
   "metadata": {},
   "outputs": [
    {
     "output_type": "display_data",
     "data": {
      "text/plain": "Figure(layout=FigureLayout(height='420px'))",
      "application/vnd.jupyter.widget-view+json": {
       "version_major": 2,
       "version_minor": 0,
       "model_id": "5a7ccfd09a984288b1e7013ac508952b"
      }
     },
     "metadata": {}
    }
   ],
   "source": [
    "# Grab locations and humidity from weather_df\n",
    "coord = weather_df[[\"Latitude\", \"Longitude\"]]\n",
    "hum = weather_df[\"Humidity\"]\n",
    "\n",
    "\n",
    "fig = gmaps.figure(zoom_level= 3, center= (35, -20))\n",
    "heat_layer = gmaps.heatmap_layer(coord, weights= hum, dissipating= False, max_intensity= 100,\n",
    "                                 point_radius= 1)\n",
    "\n",
    "\n",
    "fig.add_layer(heat_layer)\n",
    "fig"
   ]
  },
  {
   "source": [
    "## Create new DataFrame fitting weather criteria\n",
    "\n",
    "Narrow down the DataFrame to find your ideal weather condition:\n",
    "- A max temperature lower than 80 degrees but higher than 70.\n",
    "- Wind speed less than 10 mph.\n",
    "- Zero cloudiness.\n"
   ],
   "cell_type": "markdown",
   "metadata": {}
  },
  {
   "cell_type": "code",
   "execution_count": 12,
   "metadata": {},
   "outputs": [],
   "source": [
    "# Set the criteria for the ideal vacation weather condition\n",
    "\n",
    "best_conditions_df = pd.DataFrame(weather_df, columns = [\"City\", \n",
    "                                                         \"Country\", \n",
    "                                                         \"Latitude\", \n",
    "                                                         \"Longitude\", \n",
    "                                                         \"Max Temperature\", \n",
    "                                                         \"Wind Speed\", \n",
    "                                                         \"Cloudiness\"])\n",
    "\n",
    "good_max_temp = (best_conditions_df[\"Max Temperature\"] <= 80) & (best_conditions_df[\"Max Temperature\"] > 70)\n",
    "good_wind_spd = best_conditions_df[\"Wind Speed\"] < 10\n",
    "good_cloudiness = best_conditions_df[\"Cloudiness\"] == 0\n",
    "\n",
    "hotel_df = best_conditions_df[good_max_temp & good_wind_spd & good_cloudiness]\n",
    "\n",
    "\n",
    "hotel_df[\"Hotel Name\"] = \" \"\n"
   ]
  },
  {
   "source": [
    "## Hotel Map\n",
    "Using Google Places API to find the first hotel for each city located within 5000 meters of your coordinates.  \n",
    "- Store into variable named hotel_df.\n",
    "- Add a \"Hotel Name\" column to the DataFrame.\n",
    "- Set parameters to search for hotels with 5000 meters.\n",
    "- Hit the Google Places API for each city's coordinates.\n",
    "- Store the first Hotel result into the DataFrame.\n",
    " "
   ],
   "cell_type": "markdown",
   "metadata": {}
  },
  {
   "cell_type": "code",
   "execution_count": 13,
   "metadata": {},
   "outputs": [
    {
     "output_type": "execute_result",
     "data": {
      "text/plain": [
       "                      City Country  Latitude  Longitude  Max Temperature  \\\n",
       "35          Saint-Philippe      RE    -21.36      55.77            75.20   \n",
       "39      Puerto del Rosario      ES     28.50     -13.86            73.40   \n",
       "46                Antalaha      MG    -14.90      50.28            73.78   \n",
       "147                 Sitrah      BH     26.15      50.62            78.80   \n",
       "177                  Arlit      NE     18.74       7.39            75.07   \n",
       "178                 Riyadh      SA     24.69      46.72            75.20   \n",
       "200             Valparaíso      CL    -33.04     -71.63            75.20   \n",
       "213  Los Llanos de Aridane      ES     28.66     -17.92            75.20   \n",
       "339              Mount Isa      AU    -20.73     139.50            71.60   \n",
       "345           Río Gallegos      AR    -51.62     -69.22            71.60   \n",
       "381           Saint-Pierre      RE    -21.34      55.48            73.40   \n",
       "429                   Buin      CL    -33.73     -70.75            77.00   \n",
       "446                  Kidal      ML     18.44       1.41            73.98   \n",
       "498          Narasannapeta      IN     18.42      84.05            76.60   \n",
       "504                    Gao      ML     16.64       1.64            76.42   \n",
       "\n",
       "     Wind Speed  Cloudiness                       Hotel Name  \n",
       "35         3.36           0             Les Embruns Du Baril  \n",
       "39         8.05           0                 Hotel El Mirador  \n",
       "46         3.00           0                     Villa-Malaza  \n",
       "147        3.36           0  Al Bander Resort - منتجع البندر  \n",
       "177        7.94           0             Hôtel Telwa Bungalow  \n",
       "178        5.82           0                      voco Riyadh  \n",
       "200        8.05           0                   Hotel Brighton  \n",
       "213        9.17           0          Hotel Hacienda de Abajo  \n",
       "339        5.82           0        ibis Styles Mt Isa Verona  \n",
       "345        5.82           0          Hotel Aire de Patagonia  \n",
       "381        3.36           0                     LODGE PALMAE  \n",
       "429        6.93           0                          Paihuen  \n",
       "446        8.19           0                              NaN  \n",
       "498        1.19           0                  SPR Grand Hotel  \n",
       "504        7.87           0                              NaN  "
      ],
      "text/html": "<div>\n<style scoped>\n    .dataframe tbody tr th:only-of-type {\n        vertical-align: middle;\n    }\n\n    .dataframe tbody tr th {\n        vertical-align: top;\n    }\n\n    .dataframe thead th {\n        text-align: right;\n    }\n</style>\n<table border=\"1\" class=\"dataframe\">\n  <thead>\n    <tr style=\"text-align: right;\">\n      <th></th>\n      <th>City</th>\n      <th>Country</th>\n      <th>Latitude</th>\n      <th>Longitude</th>\n      <th>Max Temperature</th>\n      <th>Wind Speed</th>\n      <th>Cloudiness</th>\n      <th>Hotel Name</th>\n    </tr>\n  </thead>\n  <tbody>\n    <tr>\n      <th>35</th>\n      <td>Saint-Philippe</td>\n      <td>RE</td>\n      <td>-21.36</td>\n      <td>55.77</td>\n      <td>75.20</td>\n      <td>3.36</td>\n      <td>0</td>\n      <td>Les Embruns Du Baril</td>\n    </tr>\n    <tr>\n      <th>39</th>\n      <td>Puerto del Rosario</td>\n      <td>ES</td>\n      <td>28.50</td>\n      <td>-13.86</td>\n      <td>73.40</td>\n      <td>8.05</td>\n      <td>0</td>\n      <td>Hotel El Mirador</td>\n    </tr>\n    <tr>\n      <th>46</th>\n      <td>Antalaha</td>\n      <td>MG</td>\n      <td>-14.90</td>\n      <td>50.28</td>\n      <td>73.78</td>\n      <td>3.00</td>\n      <td>0</td>\n      <td>Villa-Malaza</td>\n    </tr>\n    <tr>\n      <th>147</th>\n      <td>Sitrah</td>\n      <td>BH</td>\n      <td>26.15</td>\n      <td>50.62</td>\n      <td>78.80</td>\n      <td>3.36</td>\n      <td>0</td>\n      <td>Al Bander Resort - منتجع البندر</td>\n    </tr>\n    <tr>\n      <th>177</th>\n      <td>Arlit</td>\n      <td>NE</td>\n      <td>18.74</td>\n      <td>7.39</td>\n      <td>75.07</td>\n      <td>7.94</td>\n      <td>0</td>\n      <td>Hôtel Telwa Bungalow</td>\n    </tr>\n    <tr>\n      <th>178</th>\n      <td>Riyadh</td>\n      <td>SA</td>\n      <td>24.69</td>\n      <td>46.72</td>\n      <td>75.20</td>\n      <td>5.82</td>\n      <td>0</td>\n      <td>voco Riyadh</td>\n    </tr>\n    <tr>\n      <th>200</th>\n      <td>Valparaíso</td>\n      <td>CL</td>\n      <td>-33.04</td>\n      <td>-71.63</td>\n      <td>75.20</td>\n      <td>8.05</td>\n      <td>0</td>\n      <td>Hotel Brighton</td>\n    </tr>\n    <tr>\n      <th>213</th>\n      <td>Los Llanos de Aridane</td>\n      <td>ES</td>\n      <td>28.66</td>\n      <td>-17.92</td>\n      <td>75.20</td>\n      <td>9.17</td>\n      <td>0</td>\n      <td>Hotel Hacienda de Abajo</td>\n    </tr>\n    <tr>\n      <th>339</th>\n      <td>Mount Isa</td>\n      <td>AU</td>\n      <td>-20.73</td>\n      <td>139.50</td>\n      <td>71.60</td>\n      <td>5.82</td>\n      <td>0</td>\n      <td>ibis Styles Mt Isa Verona</td>\n    </tr>\n    <tr>\n      <th>345</th>\n      <td>Río Gallegos</td>\n      <td>AR</td>\n      <td>-51.62</td>\n      <td>-69.22</td>\n      <td>71.60</td>\n      <td>5.82</td>\n      <td>0</td>\n      <td>Hotel Aire de Patagonia</td>\n    </tr>\n    <tr>\n      <th>381</th>\n      <td>Saint-Pierre</td>\n      <td>RE</td>\n      <td>-21.34</td>\n      <td>55.48</td>\n      <td>73.40</td>\n      <td>3.36</td>\n      <td>0</td>\n      <td>LODGE PALMAE</td>\n    </tr>\n    <tr>\n      <th>429</th>\n      <td>Buin</td>\n      <td>CL</td>\n      <td>-33.73</td>\n      <td>-70.75</td>\n      <td>77.00</td>\n      <td>6.93</td>\n      <td>0</td>\n      <td>Paihuen</td>\n    </tr>\n    <tr>\n      <th>446</th>\n      <td>Kidal</td>\n      <td>ML</td>\n      <td>18.44</td>\n      <td>1.41</td>\n      <td>73.98</td>\n      <td>8.19</td>\n      <td>0</td>\n      <td>NaN</td>\n    </tr>\n    <tr>\n      <th>498</th>\n      <td>Narasannapeta</td>\n      <td>IN</td>\n      <td>18.42</td>\n      <td>84.05</td>\n      <td>76.60</td>\n      <td>1.19</td>\n      <td>0</td>\n      <td>SPR Grand Hotel</td>\n    </tr>\n    <tr>\n      <th>504</th>\n      <td>Gao</td>\n      <td>ML</td>\n      <td>16.64</td>\n      <td>1.64</td>\n      <td>76.42</td>\n      <td>7.87</td>\n      <td>0</td>\n      <td>NaN</td>\n    </tr>\n  </tbody>\n</table>\n</div>"
     },
     "metadata": {},
     "execution_count": 13
    }
   ],
   "source": [
    "# Loop through hotel_df with api calls\n",
    "for index, row in hotel_df.iterrows():\n",
    "    try:\n",
    "        \n",
    "        base_url = \"https://maps.googleapis.com/maps/api/place/nearbysearch/json\"\n",
    "\n",
    "        params = {\n",
    "        \"keyword\": \"hotel\",\n",
    "        \"radius\": 5000,\n",
    "        \"key\": gkey,\n",
    "        }\n",
    "\n",
    "\n",
    "        lat = row[\"Latitude\"]\n",
    "        lng = row[\"Longitude\"]\n",
    "\n",
    "        params[\"location\"] = f\"{lat}, {lng}\"\n",
    "\n",
    "        hotel_data = requests.get(base_url, params=params).json()\n",
    "        \n",
    "        hotel_df.loc[index, \"Hotel Name\"] = hotel_data[\"results\"][0][\"name\"]\n",
    "        \n",
    "    except IndexError:\n",
    "        \n",
    "        hotel_df.loc[index, \"Hotel Name\"] = \"NaN\"\n",
    "      \n",
    "hotel_df"
   ]
  },
  {
   "cell_type": "code",
   "execution_count": 14,
   "metadata": {},
   "outputs": [
    {
     "output_type": "execute_result",
     "data": {
      "text/plain": [
       "                      City Country  Latitude  Longitude  Max Temperature  \\\n",
       "35          Saint-Philippe      RE    -21.36      55.77            75.20   \n",
       "39      Puerto del Rosario      ES     28.50     -13.86            73.40   \n",
       "46                Antalaha      MG    -14.90      50.28            73.78   \n",
       "147                 Sitrah      BH     26.15      50.62            78.80   \n",
       "177                  Arlit      NE     18.74       7.39            75.07   \n",
       "178                 Riyadh      SA     24.69      46.72            75.20   \n",
       "200             Valparaíso      CL    -33.04     -71.63            75.20   \n",
       "213  Los Llanos de Aridane      ES     28.66     -17.92            75.20   \n",
       "339              Mount Isa      AU    -20.73     139.50            71.60   \n",
       "345           Río Gallegos      AR    -51.62     -69.22            71.60   \n",
       "381           Saint-Pierre      RE    -21.34      55.48            73.40   \n",
       "429                   Buin      CL    -33.73     -70.75            77.00   \n",
       "498          Narasannapeta      IN     18.42      84.05            76.60   \n",
       "\n",
       "     Wind Speed  Cloudiness                       Hotel Name  \n",
       "35         3.36           0             Les Embruns Du Baril  \n",
       "39         8.05           0                 Hotel El Mirador  \n",
       "46         3.00           0                     Villa-Malaza  \n",
       "147        3.36           0  Al Bander Resort - منتجع البندر  \n",
       "177        7.94           0             Hôtel Telwa Bungalow  \n",
       "178        5.82           0                      voco Riyadh  \n",
       "200        8.05           0                   Hotel Brighton  \n",
       "213        9.17           0          Hotel Hacienda de Abajo  \n",
       "339        5.82           0        ibis Styles Mt Isa Verona  \n",
       "345        5.82           0          Hotel Aire de Patagonia  \n",
       "381        3.36           0                     LODGE PALMAE  \n",
       "429        6.93           0                          Paihuen  \n",
       "498        1.19           0                  SPR Grand Hotel  "
      ],
      "text/html": "<div>\n<style scoped>\n    .dataframe tbody tr th:only-of-type {\n        vertical-align: middle;\n    }\n\n    .dataframe tbody tr th {\n        vertical-align: top;\n    }\n\n    .dataframe thead th {\n        text-align: right;\n    }\n</style>\n<table border=\"1\" class=\"dataframe\">\n  <thead>\n    <tr style=\"text-align: right;\">\n      <th></th>\n      <th>City</th>\n      <th>Country</th>\n      <th>Latitude</th>\n      <th>Longitude</th>\n      <th>Max Temperature</th>\n      <th>Wind Speed</th>\n      <th>Cloudiness</th>\n      <th>Hotel Name</th>\n    </tr>\n  </thead>\n  <tbody>\n    <tr>\n      <th>35</th>\n      <td>Saint-Philippe</td>\n      <td>RE</td>\n      <td>-21.36</td>\n      <td>55.77</td>\n      <td>75.20</td>\n      <td>3.36</td>\n      <td>0</td>\n      <td>Les Embruns Du Baril</td>\n    </tr>\n    <tr>\n      <th>39</th>\n      <td>Puerto del Rosario</td>\n      <td>ES</td>\n      <td>28.50</td>\n      <td>-13.86</td>\n      <td>73.40</td>\n      <td>8.05</td>\n      <td>0</td>\n      <td>Hotel El Mirador</td>\n    </tr>\n    <tr>\n      <th>46</th>\n      <td>Antalaha</td>\n      <td>MG</td>\n      <td>-14.90</td>\n      <td>50.28</td>\n      <td>73.78</td>\n      <td>3.00</td>\n      <td>0</td>\n      <td>Villa-Malaza</td>\n    </tr>\n    <tr>\n      <th>147</th>\n      <td>Sitrah</td>\n      <td>BH</td>\n      <td>26.15</td>\n      <td>50.62</td>\n      <td>78.80</td>\n      <td>3.36</td>\n      <td>0</td>\n      <td>Al Bander Resort - منتجع البندر</td>\n    </tr>\n    <tr>\n      <th>177</th>\n      <td>Arlit</td>\n      <td>NE</td>\n      <td>18.74</td>\n      <td>7.39</td>\n      <td>75.07</td>\n      <td>7.94</td>\n      <td>0</td>\n      <td>Hôtel Telwa Bungalow</td>\n    </tr>\n    <tr>\n      <th>178</th>\n      <td>Riyadh</td>\n      <td>SA</td>\n      <td>24.69</td>\n      <td>46.72</td>\n      <td>75.20</td>\n      <td>5.82</td>\n      <td>0</td>\n      <td>voco Riyadh</td>\n    </tr>\n    <tr>\n      <th>200</th>\n      <td>Valparaíso</td>\n      <td>CL</td>\n      <td>-33.04</td>\n      <td>-71.63</td>\n      <td>75.20</td>\n      <td>8.05</td>\n      <td>0</td>\n      <td>Hotel Brighton</td>\n    </tr>\n    <tr>\n      <th>213</th>\n      <td>Los Llanos de Aridane</td>\n      <td>ES</td>\n      <td>28.66</td>\n      <td>-17.92</td>\n      <td>75.20</td>\n      <td>9.17</td>\n      <td>0</td>\n      <td>Hotel Hacienda de Abajo</td>\n    </tr>\n    <tr>\n      <th>339</th>\n      <td>Mount Isa</td>\n      <td>AU</td>\n      <td>-20.73</td>\n      <td>139.50</td>\n      <td>71.60</td>\n      <td>5.82</td>\n      <td>0</td>\n      <td>ibis Styles Mt Isa Verona</td>\n    </tr>\n    <tr>\n      <th>345</th>\n      <td>Río Gallegos</td>\n      <td>AR</td>\n      <td>-51.62</td>\n      <td>-69.22</td>\n      <td>71.60</td>\n      <td>5.82</td>\n      <td>0</td>\n      <td>Hotel Aire de Patagonia</td>\n    </tr>\n    <tr>\n      <th>381</th>\n      <td>Saint-Pierre</td>\n      <td>RE</td>\n      <td>-21.34</td>\n      <td>55.48</td>\n      <td>73.40</td>\n      <td>3.36</td>\n      <td>0</td>\n      <td>LODGE PALMAE</td>\n    </tr>\n    <tr>\n      <th>429</th>\n      <td>Buin</td>\n      <td>CL</td>\n      <td>-33.73</td>\n      <td>-70.75</td>\n      <td>77.00</td>\n      <td>6.93</td>\n      <td>0</td>\n      <td>Paihuen</td>\n    </tr>\n    <tr>\n      <th>498</th>\n      <td>Narasannapeta</td>\n      <td>IN</td>\n      <td>18.42</td>\n      <td>84.05</td>\n      <td>76.60</td>\n      <td>1.19</td>\n      <td>0</td>\n      <td>SPR Grand Hotel</td>\n    </tr>\n  </tbody>\n</table>\n</div>"
     },
     "metadata": {},
     "execution_count": 14
    }
   ],
   "source": [
    "# Drop the ones with NaN in Hotel Name column\n",
    "hotel_df = hotel_df[hotel_df[\"Hotel Name\"] != \"NaN\"]\n",
    "hotel_df"
   ]
  },
  {
   "source": [
    "- Plot the hotels on top of the humidity heatmap with each pin containing the Hotel Name, City, and Country."
   ],
   "cell_type": "markdown",
   "metadata": {}
  },
  {
   "cell_type": "code",
   "execution_count": 15,
   "metadata": {},
   "outputs": [],
   "source": [
    "# Grabbing from stater_code\n",
    "# NOTE: Do not change any of the code in this cell\n",
    "\n",
    "# Using the template add the hotel marks to the heatmap\n",
    "info_box_template = \"\"\"\n",
    "<dl>\n",
    "<dt>Name</dt><dd>{Hotel Name}</dd>\n",
    "<dt>City</dt><dd>{City}</dd>\n",
    "<dt>Country</dt><dd>{Country}</dd>\n",
    "</dl>\n",
    "\"\"\"\n",
    "\n",
    "\n",
    "# Store the DataFrame Row\n",
    "# NOTE: be sure to update with your DataFrame name\n",
    "hotel_info = [info_box_template.format(**row) for index, row in hotel_df.iterrows()]\n",
    "locations = hotel_df[[\"Latitude\", \"Longitude\"]]"
   ]
  },
  {
   "cell_type": "code",
   "execution_count": 16,
   "metadata": {},
   "outputs": [
    {
     "output_type": "display_data",
     "data": {
      "text/plain": "Figure(layout=FigureLayout(height='420px'))",
      "application/vnd.jupyter.widget-view+json": {
       "version_major": 2,
       "version_minor": 0,
       "model_id": "5a7ccfd09a984288b1e7013ac508952b"
      }
     },
     "metadata": {}
    }
   ],
   "source": [
    "\n",
    "# Add marker layer ontop of heat map\n",
    "# Display figure\n",
    "markers = gmaps.marker_layer(locations, info_box_content= hotel_info)\n",
    "fig.add_layer(markers)\n",
    "fig\n",
    "\n"
   ]
  },
  {
   "cell_type": "code",
   "execution_count": null,
   "metadata": {},
   "outputs": [],
   "source": []
  }
 ]
}