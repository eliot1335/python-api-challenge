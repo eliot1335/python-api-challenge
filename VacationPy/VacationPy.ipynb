{
 "metadata": {
  "language_info": {
   "codemirror_mode": {
    "name": "ipython",
    "version": 3
   },
   "file_extension": ".py",
   "mimetype": "text/x-python",
   "name": "python",
   "nbconvert_exporter": "python",
   "pygments_lexer": "ipython3",
   "version": "3.8.3-final"
  },
  "orig_nbformat": 2,
  "kernelspec": {
   "name": "python3",
   "display_name": "Python 3.8.3 64-bit ('datavispip': conda)",
   "metadata": {
    "interpreter": {
     "hash": "c8ca10ecc8471ee9f0677057683f87ff47ab794b3f9adc34523f957990c0d05f"
    }
   }
  }
 },
 "nbformat": 4,
 "nbformat_minor": 2,
 "cells": [
  {
   "cell_type": "code",
   "execution_count": 3,
   "metadata": {},
   "outputs": [],
   "source": [
    "# Dependencies and Setup\n",
    "import matplotlib.pyplot as plt\n",
    "import pandas as pd\n",
    "import numpy as np\n",
    "import requests\n",
    "import gmaps\n",
    "import os\n",
    "import json\n",
    "\n",
    "# Import API key\n",
    "from config import gkey\n",
    "\n",
    "# Configure gmaps\n",
    "gmaps.configure(api_key=gkey)"
   ]
  },
  {
   "cell_type": "code",
   "execution_count": 5,
   "metadata": {},
   "outputs": [
    {
     "output_type": "execute_result",
     "data": {
      "text/plain": [
       "     Unnamed: 0                City  Cloudiness Country  Humidity  Latitude  \\\n",
       "0             0            Hermanus          90      ZA        82    -34.42   \n",
       "1             1               Dubti           0      ET        57     11.74   \n",
       "2             2             Amuntai           1      ID        88     -2.42   \n",
       "3             3           Yangjiang          84      CN        50     21.85   \n",
       "4             4              Atuona          85      PF        76     -9.80   \n",
       "..          ...                 ...         ...     ...       ...       ...   \n",
       "549         549            Necochea          89      AR        82    -38.55   \n",
       "550         550        Plaster Rock          90      CA        60     46.91   \n",
       "551         551                 Sur           0      OM        51     22.57   \n",
       "552         552          Bukachacha         100      RU        93     52.98   \n",
       "553         553  Conceição da Barra          39      BR        81    -18.59   \n",
       "\n",
       "     Longitude  Max Temperature  Wind Speed  \n",
       "0        19.23            62.01        4.00  \n",
       "1        41.09            76.21        6.51  \n",
       "2       115.25            77.36        0.83  \n",
       "3       111.97            69.19        7.94  \n",
       "4      -139.03            77.61       15.79  \n",
       "..         ...              ...         ...  \n",
       "549     -58.74            66.00       11.99  \n",
       "550     -67.39            39.20        3.36  \n",
       "551      59.53            73.27        6.80  \n",
       "552     116.92            23.13        1.97  \n",
       "553     -39.73            76.19       11.70  \n",
       "\n",
       "[554 rows x 9 columns]"
      ],
      "text/html": "<div>\n<style scoped>\n    .dataframe tbody tr th:only-of-type {\n        vertical-align: middle;\n    }\n\n    .dataframe tbody tr th {\n        vertical-align: top;\n    }\n\n    .dataframe thead th {\n        text-align: right;\n    }\n</style>\n<table border=\"1\" class=\"dataframe\">\n  <thead>\n    <tr style=\"text-align: right;\">\n      <th></th>\n      <th>Unnamed: 0</th>\n      <th>City</th>\n      <th>Cloudiness</th>\n      <th>Country</th>\n      <th>Humidity</th>\n      <th>Latitude</th>\n      <th>Longitude</th>\n      <th>Max Temperature</th>\n      <th>Wind Speed</th>\n    </tr>\n  </thead>\n  <tbody>\n    <tr>\n      <th>0</th>\n      <td>0</td>\n      <td>Hermanus</td>\n      <td>90</td>\n      <td>ZA</td>\n      <td>82</td>\n      <td>-34.42</td>\n      <td>19.23</td>\n      <td>62.01</td>\n      <td>4.00</td>\n    </tr>\n    <tr>\n      <th>1</th>\n      <td>1</td>\n      <td>Dubti</td>\n      <td>0</td>\n      <td>ET</td>\n      <td>57</td>\n      <td>11.74</td>\n      <td>41.09</td>\n      <td>76.21</td>\n      <td>6.51</td>\n    </tr>\n    <tr>\n      <th>2</th>\n      <td>2</td>\n      <td>Amuntai</td>\n      <td>1</td>\n      <td>ID</td>\n      <td>88</td>\n      <td>-2.42</td>\n      <td>115.25</td>\n      <td>77.36</td>\n      <td>0.83</td>\n    </tr>\n    <tr>\n      <th>3</th>\n      <td>3</td>\n      <td>Yangjiang</td>\n      <td>84</td>\n      <td>CN</td>\n      <td>50</td>\n      <td>21.85</td>\n      <td>111.97</td>\n      <td>69.19</td>\n      <td>7.94</td>\n    </tr>\n    <tr>\n      <th>4</th>\n      <td>4</td>\n      <td>Atuona</td>\n      <td>85</td>\n      <td>PF</td>\n      <td>76</td>\n      <td>-9.80</td>\n      <td>-139.03</td>\n      <td>77.61</td>\n      <td>15.79</td>\n    </tr>\n    <tr>\n      <th>...</th>\n      <td>...</td>\n      <td>...</td>\n      <td>...</td>\n      <td>...</td>\n      <td>...</td>\n      <td>...</td>\n      <td>...</td>\n      <td>...</td>\n      <td>...</td>\n    </tr>\n    <tr>\n      <th>549</th>\n      <td>549</td>\n      <td>Necochea</td>\n      <td>89</td>\n      <td>AR</td>\n      <td>82</td>\n      <td>-38.55</td>\n      <td>-58.74</td>\n      <td>66.00</td>\n      <td>11.99</td>\n    </tr>\n    <tr>\n      <th>550</th>\n      <td>550</td>\n      <td>Plaster Rock</td>\n      <td>90</td>\n      <td>CA</td>\n      <td>60</td>\n      <td>46.91</td>\n      <td>-67.39</td>\n      <td>39.20</td>\n      <td>3.36</td>\n    </tr>\n    <tr>\n      <th>551</th>\n      <td>551</td>\n      <td>Sur</td>\n      <td>0</td>\n      <td>OM</td>\n      <td>51</td>\n      <td>22.57</td>\n      <td>59.53</td>\n      <td>73.27</td>\n      <td>6.80</td>\n    </tr>\n    <tr>\n      <th>552</th>\n      <td>552</td>\n      <td>Bukachacha</td>\n      <td>100</td>\n      <td>RU</td>\n      <td>93</td>\n      <td>52.98</td>\n      <td>116.92</td>\n      <td>23.13</td>\n      <td>1.97</td>\n    </tr>\n    <tr>\n      <th>553</th>\n      <td>553</td>\n      <td>Conceição da Barra</td>\n      <td>39</td>\n      <td>BR</td>\n      <td>81</td>\n      <td>-18.59</td>\n      <td>-39.73</td>\n      <td>76.19</td>\n      <td>11.70</td>\n    </tr>\n  </tbody>\n</table>\n<p>554 rows × 9 columns</p>\n</div>"
     },
     "metadata": {},
     "execution_count": 5
    }
   ],
   "source": [
    "# Load the csv exported in Part I to a DataFrame\n",
    "weather_df = pd.read_csv('../Resources/weather_df.csv')\n",
    "weather_df"
   ]
  },
  {
   "source": [
    "Create a heat map that displays the humidity for every city from the part I of the homework."
   ],
   "cell_type": "markdown",
   "metadata": {}
  },
  {
   "cell_type": "code",
   "execution_count": 33,
   "metadata": {},
   "outputs": [
    {
     "output_type": "display_data",
     "data": {
      "text/plain": "Figure(layout=FigureLayout(height='420px'))",
      "application/vnd.jupyter.widget-view+json": {
       "version_major": 2,
       "version_minor": 0,
       "model_id": "de7b02db29c1405fa6c090425e6d68fc"
      }
     },
     "metadata": {}
    }
   ],
   "source": [
    "# Grab locations and humidity from weather_df\n",
    "coord = weather_df[[\"Latitude\", \"Longitude\"]]\n",
    "hum = weather_df[\"Humidity\"]\n",
    "\n",
    "\n",
    "fig = gmaps.figure(zoom_level= 3, center= (35, -20))\n",
    "heat_layer = gmaps.heatmap_layer(coord, weights= hum, dissipating= False, max_intensity= 100,\n",
    "                                 point_radius= 1)\n",
    "\n",
    "\n",
    "fig.add_layer(heat_layer)\n",
    "fig"
   ]
  },
  {
   "source": [
    "Narrow down the DataFrame to find your ideal weather condition. For example:\n",
    "\n",
    "\n",
    "A max temperature lower than 80 degrees but higher than 70.\n",
    "\n",
    "\n",
    "Wind speed less than 10 mph.\n",
    "\n",
    "\n",
    "Zero cloudiness.\n",
    "\n",
    "\n",
    "Drop any rows that don't contain all three conditions. You want to be sure the weather is ideal.\n",
    "\n",
    "\n",
    "Note: Feel free to adjust to your specifications but be sure to limit the number of rows returned by your API requests to a reasonable number."
   ],
   "cell_type": "markdown",
   "metadata": {}
  },
  {
   "cell_type": "code",
   "execution_count": 38,
   "metadata": {},
   "outputs": [
    {
     "output_type": "execute_result",
     "data": {
      "text/plain": [
       "               City  Max Temperature  Wind Speed  Cloudiness\n",
       "1             Dubti            76.21        6.51           0\n",
       "46            Airai            71.02        1.25           0\n",
       "49   Juan de Ayolas            76.98        6.02           0\n",
       "84          Salalah            77.00        2.24           0\n",
       "111          Bogale            73.60        7.49           0\n",
       "144          Mattru            74.64        2.06           0\n",
       "148        Araouane            77.97        6.26           0\n",
       "213        Flinders            72.00        3.00           0\n",
       "256          Yulara            78.80        8.05           0\n",
       "305          Faanui            79.90        9.89           0\n",
       "335           Murud            77.20        4.68           0\n",
       "466       Quelimane            73.40        2.24           0\n",
       "498  Ferkessédougou            74.62        4.41           0\n",
       "551             Sur            73.27        6.80           0"
      ],
      "text/html": "<div>\n<style scoped>\n    .dataframe tbody tr th:only-of-type {\n        vertical-align: middle;\n    }\n\n    .dataframe tbody tr th {\n        vertical-align: top;\n    }\n\n    .dataframe thead th {\n        text-align: right;\n    }\n</style>\n<table border=\"1\" class=\"dataframe\">\n  <thead>\n    <tr style=\"text-align: right;\">\n      <th></th>\n      <th>City</th>\n      <th>Max Temperature</th>\n      <th>Wind Speed</th>\n      <th>Cloudiness</th>\n    </tr>\n  </thead>\n  <tbody>\n    <tr>\n      <th>1</th>\n      <td>Dubti</td>\n      <td>76.21</td>\n      <td>6.51</td>\n      <td>0</td>\n    </tr>\n    <tr>\n      <th>46</th>\n      <td>Airai</td>\n      <td>71.02</td>\n      <td>1.25</td>\n      <td>0</td>\n    </tr>\n    <tr>\n      <th>49</th>\n      <td>Juan de Ayolas</td>\n      <td>76.98</td>\n      <td>6.02</td>\n      <td>0</td>\n    </tr>\n    <tr>\n      <th>84</th>\n      <td>Salalah</td>\n      <td>77.00</td>\n      <td>2.24</td>\n      <td>0</td>\n    </tr>\n    <tr>\n      <th>111</th>\n      <td>Bogale</td>\n      <td>73.60</td>\n      <td>7.49</td>\n      <td>0</td>\n    </tr>\n    <tr>\n      <th>144</th>\n      <td>Mattru</td>\n      <td>74.64</td>\n      <td>2.06</td>\n      <td>0</td>\n    </tr>\n    <tr>\n      <th>148</th>\n      <td>Araouane</td>\n      <td>77.97</td>\n      <td>6.26</td>\n      <td>0</td>\n    </tr>\n    <tr>\n      <th>213</th>\n      <td>Flinders</td>\n      <td>72.00</td>\n      <td>3.00</td>\n      <td>0</td>\n    </tr>\n    <tr>\n      <th>256</th>\n      <td>Yulara</td>\n      <td>78.80</td>\n      <td>8.05</td>\n      <td>0</td>\n    </tr>\n    <tr>\n      <th>305</th>\n      <td>Faanui</td>\n      <td>79.90</td>\n      <td>9.89</td>\n      <td>0</td>\n    </tr>\n    <tr>\n      <th>335</th>\n      <td>Murud</td>\n      <td>77.20</td>\n      <td>4.68</td>\n      <td>0</td>\n    </tr>\n    <tr>\n      <th>466</th>\n      <td>Quelimane</td>\n      <td>73.40</td>\n      <td>2.24</td>\n      <td>0</td>\n    </tr>\n    <tr>\n      <th>498</th>\n      <td>Ferkessédougou</td>\n      <td>74.62</td>\n      <td>4.41</td>\n      <td>0</td>\n    </tr>\n    <tr>\n      <th>551</th>\n      <td>Sur</td>\n      <td>73.27</td>\n      <td>6.80</td>\n      <td>0</td>\n    </tr>\n  </tbody>\n</table>\n</div>"
     },
     "metadata": {},
     "execution_count": 38
    }
   ],
   "source": [
    "# Create criteria for the perfect vacation climate\n",
    "\n",
    "best_conditions_df = pd.DataFrame(weather_df, columns = [\"City\", \"Max Temperature\", \"Wind Speed\", \"Cloudiness\"])\n",
    "\n",
    "good_max_temp = (best_conditions_df[\"Max Temperature\"] <= 80) & (best_conditions_df[\"Max Temperature\"] > 70)\n",
    "good_wind_spd = best_conditions_df[\"Wind Speed\"] < 10\n",
    "good_cloudiness = best_conditions_df[\"Cloudiness\"] == 0\n",
    "\n",
    "best_conditions_df[good_max_temp & good_wind_spd & good_cloudiness]"
   ]
  },
  {
   "source": [
    "Using Google Places API to find the first hotel for each city located within 5000 meters of your coordinates."
   ],
   "cell_type": "markdown",
   "metadata": {}
  },
  {
   "cell_type": "code",
   "execution_count": null,
   "metadata": {},
   "outputs": [],
   "source": []
  },
  {
   "source": [
    "Plot the hotels on top of the humidity heatmap with each pin containing the Hotel Name, City, and Country."
   ],
   "cell_type": "markdown",
   "metadata": {}
  },
  {
   "cell_type": "code",
   "execution_count": null,
   "metadata": {},
   "outputs": [],
   "source": []
  }
 ]
}