{
 "metadata": {
  "language_info": {
   "codemirror_mode": {
    "name": "ipython",
    "version": 3
   },
   "file_extension": ".py",
   "mimetype": "text/x-python",
   "name": "python",
   "nbconvert_exporter": "python",
   "pygments_lexer": "ipython3",
   "version": "3.8.3-final"
  },
  "orig_nbformat": 2,
  "kernelspec": {
   "name": "python3",
   "display_name": "Python 3.8.3 64-bit ('datavispip': conda)",
   "metadata": {
    "interpreter": {
     "hash": "c8ca10ecc8471ee9f0677057683f87ff47ab794b3f9adc34523f957990c0d05f"
    }
   }
  }
 },
 "nbformat": 4,
 "nbformat_minor": 2,
 "cells": [
  {
   "source": [
    "# VacationPy"
   ],
   "cell_type": "markdown",
   "metadata": {}
  },
  {
   "cell_type": "code",
   "execution_count": 1,
   "metadata": {},
   "outputs": [],
   "source": [
    "# Dependencies\n",
    "import matplotlib.pyplot as plt\n",
    "import pandas as pd\n",
    "import numpy as np\n",
    "import requests\n",
    "import gmaps\n",
    "import os\n",
    "import json\n",
    "\n",
    "# Import API key\n",
    "from config import gkey\n",
    "\n",
    "# Configure gmaps\n",
    "gmaps.configure(api_key= gkey)"
   ]
  },
  {
   "source": [
    " ## Store Part I results into DataFrame\n",
    " - Load the csv exported in Part I to a DataFrame"
   ],
   "cell_type": "markdown",
   "metadata": {}
  },
  {
   "cell_type": "code",
   "execution_count": 2,
   "metadata": {},
   "outputs": [
    {
     "output_type": "execute_result",
     "data": {
      "text/plain": [
       "     Unnamed: 0         City  Cloudiness Country  Humidity  Latitude  \\\n",
       "0             0    Taoudenni          56      ML        15     22.68   \n",
       "1             1  Port Alfred           8      ZA        67    -33.59   \n",
       "2             2     Hermanus          95      ZA        68    -34.42   \n",
       "3             3   Bredasdorp          35      ZA        46    -34.53   \n",
       "4             4      Ushuaia          75      AR        84    -54.80   \n",
       "..          ...          ...         ...     ...       ...       ...   \n",
       "557         557      Chapecó           0      BR        68    -27.10   \n",
       "558         558        Pisco          90      PE        88    -13.70   \n",
       "559         559     Qaqortoq          33      GL        61     60.72   \n",
       "560         560    Ketchikan          90      US       100     55.34   \n",
       "561         561         Palu         100      ID        78     -0.89   \n",
       "\n",
       "     Longitude  Max Temperature  Wind Speed  \n",
       "0        -3.98            83.46       15.73  \n",
       "1        26.89            72.77       22.41  \n",
       "2        19.23            68.00        8.99  \n",
       "3        20.04            73.40       14.99  \n",
       "4       -68.30            35.60        6.93  \n",
       "..         ...              ...         ...  \n",
       "557     -52.62            68.00        6.93  \n",
       "558     -76.22            63.00        2.24  \n",
       "559     -46.03            14.00        4.70  \n",
       "560    -131.65            39.20        3.36  \n",
       "561     119.87            79.32        1.50  \n",
       "\n",
       "[562 rows x 9 columns]"
      ],
      "text/html": "<div>\n<style scoped>\n    .dataframe tbody tr th:only-of-type {\n        vertical-align: middle;\n    }\n\n    .dataframe tbody tr th {\n        vertical-align: top;\n    }\n\n    .dataframe thead th {\n        text-align: right;\n    }\n</style>\n<table border=\"1\" class=\"dataframe\">\n  <thead>\n    <tr style=\"text-align: right;\">\n      <th></th>\n      <th>Unnamed: 0</th>\n      <th>City</th>\n      <th>Cloudiness</th>\n      <th>Country</th>\n      <th>Humidity</th>\n      <th>Latitude</th>\n      <th>Longitude</th>\n      <th>Max Temperature</th>\n      <th>Wind Speed</th>\n    </tr>\n  </thead>\n  <tbody>\n    <tr>\n      <th>0</th>\n      <td>0</td>\n      <td>Taoudenni</td>\n      <td>56</td>\n      <td>ML</td>\n      <td>15</td>\n      <td>22.68</td>\n      <td>-3.98</td>\n      <td>83.46</td>\n      <td>15.73</td>\n    </tr>\n    <tr>\n      <th>1</th>\n      <td>1</td>\n      <td>Port Alfred</td>\n      <td>8</td>\n      <td>ZA</td>\n      <td>67</td>\n      <td>-33.59</td>\n      <td>26.89</td>\n      <td>72.77</td>\n      <td>22.41</td>\n    </tr>\n    <tr>\n      <th>2</th>\n      <td>2</td>\n      <td>Hermanus</td>\n      <td>95</td>\n      <td>ZA</td>\n      <td>68</td>\n      <td>-34.42</td>\n      <td>19.23</td>\n      <td>68.00</td>\n      <td>8.99</td>\n    </tr>\n    <tr>\n      <th>3</th>\n      <td>3</td>\n      <td>Bredasdorp</td>\n      <td>35</td>\n      <td>ZA</td>\n      <td>46</td>\n      <td>-34.53</td>\n      <td>20.04</td>\n      <td>73.40</td>\n      <td>14.99</td>\n    </tr>\n    <tr>\n      <th>4</th>\n      <td>4</td>\n      <td>Ushuaia</td>\n      <td>75</td>\n      <td>AR</td>\n      <td>84</td>\n      <td>-54.80</td>\n      <td>-68.30</td>\n      <td>35.60</td>\n      <td>6.93</td>\n    </tr>\n    <tr>\n      <th>...</th>\n      <td>...</td>\n      <td>...</td>\n      <td>...</td>\n      <td>...</td>\n      <td>...</td>\n      <td>...</td>\n      <td>...</td>\n      <td>...</td>\n      <td>...</td>\n    </tr>\n    <tr>\n      <th>557</th>\n      <td>557</td>\n      <td>Chapecó</td>\n      <td>0</td>\n      <td>BR</td>\n      <td>68</td>\n      <td>-27.10</td>\n      <td>-52.62</td>\n      <td>68.00</td>\n      <td>6.93</td>\n    </tr>\n    <tr>\n      <th>558</th>\n      <td>558</td>\n      <td>Pisco</td>\n      <td>90</td>\n      <td>PE</td>\n      <td>88</td>\n      <td>-13.70</td>\n      <td>-76.22</td>\n      <td>63.00</td>\n      <td>2.24</td>\n    </tr>\n    <tr>\n      <th>559</th>\n      <td>559</td>\n      <td>Qaqortoq</td>\n      <td>33</td>\n      <td>GL</td>\n      <td>61</td>\n      <td>60.72</td>\n      <td>-46.03</td>\n      <td>14.00</td>\n      <td>4.70</td>\n    </tr>\n    <tr>\n      <th>560</th>\n      <td>560</td>\n      <td>Ketchikan</td>\n      <td>90</td>\n      <td>US</td>\n      <td>100</td>\n      <td>55.34</td>\n      <td>-131.65</td>\n      <td>39.20</td>\n      <td>3.36</td>\n    </tr>\n    <tr>\n      <th>561</th>\n      <td>561</td>\n      <td>Palu</td>\n      <td>100</td>\n      <td>ID</td>\n      <td>78</td>\n      <td>-0.89</td>\n      <td>119.87</td>\n      <td>79.32</td>\n      <td>1.50</td>\n    </tr>\n  </tbody>\n</table>\n<p>562 rows × 9 columns</p>\n</div>"
     },
     "metadata": {},
     "execution_count": 2
    }
   ],
   "source": [
    "weather_df = pd.read_csv('../Resources/weather_df.csv')\n",
    "weather_df"
   ]
  },
  {
   "source": [
    "## Humidity Heatmap\n",
    "- Configure gmaps.\n",
    "- Use the Lat and Lng as locations and Humidity as the weight.\n",
    "- Add Heatmap layer to map.\n",
    "- Create a heat map that displays the humidity for every city from the part I of the homework."
   ],
   "cell_type": "markdown",
   "metadata": {}
  },
  {
   "cell_type": "code",
   "execution_count": 3,
   "metadata": {},
   "outputs": [
    {
     "output_type": "display_data",
     "data": {
      "text/plain": "Figure(layout=FigureLayout(height='420px'))",
      "application/vnd.jupyter.widget-view+json": {
       "version_major": 2,
       "version_minor": 0,
       "model_id": "28fc16665bfe41c2b6235eeb3d37eac6"
      }
     },
     "metadata": {}
    }
   ],
   "source": [
    "# Grab locations and humidity from weather_df\n",
    "coord = weather_df[[\"Latitude\", \"Longitude\"]]\n",
    "hum = weather_df[\"Humidity\"]\n",
    "\n",
    "\n",
    "fig = gmaps.figure(zoom_level= 3, center= (35, -20))\n",
    "heat_layer = gmaps.heatmap_layer(coord, weights= hum, dissipating= False, max_intensity= 100,\n",
    "                                 point_radius= 1)\n",
    "\n",
    "\n",
    "fig.add_layer(heat_layer)\n",
    "fig"
   ]
  },
  {
   "source": [
    "## Create new DataFrame fitting weather criteria\n",
    "\n",
    "Narrow down the DataFrame to find your ideal weather condition:\n",
    "- A max temperature lower than 80 degrees but higher than 70.\n",
    "- Wind speed less than 10 mph.\n",
    "- Zero cloudiness.\n"
   ],
   "cell_type": "markdown",
   "metadata": {}
  },
  {
   "cell_type": "code",
   "execution_count": 4,
   "metadata": {},
   "outputs": [],
   "source": [
    "# Set the criteria for the ideal vacation weather condition\n",
    "\n",
    "best_conditions_df = pd.DataFrame(weather_df, columns = [\"City\", \n",
    "                                                         \"Country\", \n",
    "                                                         \"Latitude\", \n",
    "                                                         \"Longitude\", \n",
    "                                                         \"Max Temperature\", \n",
    "                                                         \"Wind Speed\", \n",
    "                                                         \"Cloudiness\"])\n",
    "\n",
    "good_max_temp = (best_conditions_df[\"Max Temperature\"] <= 80) & (best_conditions_df[\"Max Temperature\"] > 70)\n",
    "good_wind_spd = best_conditions_df[\"Wind Speed\"] < 10\n",
    "good_cloudiness = best_conditions_df[\"Cloudiness\"] == 0\n",
    "\n",
    "hotel_df = best_conditions_df[good_max_temp & good_wind_spd & good_cloudiness]\n",
    "\n",
    "\n",
    "hotel_df[\"Hotel Name\"] = \" \"\n"
   ]
  },
  {
   "source": [
    "## Hotel Map\n",
    "Using Google Places API to find the first hotel for each city located within 5000 meters of your coordinates.  \n",
    "- Store into variable named hotel_df.\n",
    "- Add a \"Hotel Name\" column to the DataFrame.\n",
    "- Set parameters to search for hotels with 5000 meters.\n",
    "- Hit the Google Places API for each city's coordinates.\n",
    "- Store the first Hotel result into the DataFrame.\n",
    " "
   ],
   "cell_type": "markdown",
   "metadata": {}
  },
  {
   "cell_type": "code",
   "execution_count": 5,
   "metadata": {},
   "outputs": [
    {
     "output_type": "execute_result",
     "data": {
      "text/plain": [
       "                  City Country  Latitude  Longitude  Max Temperature  \\\n",
       "5     Puerto Escondido      MX     15.85     -97.07            77.67   \n",
       "13          Nouadhibou      MR     20.93     -17.03            73.40   \n",
       "37        Três de Maio      BR    -27.77     -54.24            70.81   \n",
       "77            Teahupoo      PF    -17.83    -149.27            78.80   \n",
       "122         Kiryat Gat      IL     31.61      34.76            79.00   \n",
       "192                Vao      NC    -22.67     167.48            74.98   \n",
       "215               Tura      IN     25.52      90.22            77.36   \n",
       "277            Tautira      PF    -17.73    -149.15            78.80   \n",
       "369      Florianópolis      BR    -27.61     -48.50            75.00   \n",
       "379         Hervey Bay      AU    -25.30     152.85            78.01   \n",
       "382             Nicoya      CR     10.15     -85.45            72.43   \n",
       "383  São João da Barra      BR    -21.64     -41.05            75.20   \n",
       "477          Myitkyina      MM     25.38      97.40            78.39   \n",
       "482              Along      IN     28.17      94.77            73.06   \n",
       "553         Nouakchott      MR     18.09     -15.98            78.80   \n",
       "\n",
       "     Wind Speed  Cloudiness                          Hotel Name  \n",
       "5          5.46           0             Selina Puerto Escondido  \n",
       "13         4.70           0          Free Zone Hotel Nouadhibou  \n",
       "37         5.88           0                       Franken Hotel  \n",
       "77         8.05           0                        Vanira Lodge  \n",
       "122        3.18           0                          Desert Gat  \n",
       "192        9.17           0              OURE TERA beach resort  \n",
       "215        2.59           0                   Hotel Polo Orchid  \n",
       "277        8.05           0                                 NaN  \n",
       "369        1.12           0               Majestic Palace Hotel  \n",
       "379        4.00           0      Oaks Hervey Bay Resort and Spa  \n",
       "382        2.06           0                    Hotel Doña Marta  \n",
       "383        2.24           0            OYO Pousada Mediterrâneo  \n",
       "477        1.25           0                       Hotel Hukaung  \n",
       "482        0.38           0                        Hotel Min-Ta  \n",
       "553        5.82           0  AZALAÏ HOTEL NOUAKCHOTT (MARHABA )  "
      ],
      "text/html": "<div>\n<style scoped>\n    .dataframe tbody tr th:only-of-type {\n        vertical-align: middle;\n    }\n\n    .dataframe tbody tr th {\n        vertical-align: top;\n    }\n\n    .dataframe thead th {\n        text-align: right;\n    }\n</style>\n<table border=\"1\" class=\"dataframe\">\n  <thead>\n    <tr style=\"text-align: right;\">\n      <th></th>\n      <th>City</th>\n      <th>Country</th>\n      <th>Latitude</th>\n      <th>Longitude</th>\n      <th>Max Temperature</th>\n      <th>Wind Speed</th>\n      <th>Cloudiness</th>\n      <th>Hotel Name</th>\n    </tr>\n  </thead>\n  <tbody>\n    <tr>\n      <th>5</th>\n      <td>Puerto Escondido</td>\n      <td>MX</td>\n      <td>15.85</td>\n      <td>-97.07</td>\n      <td>77.67</td>\n      <td>5.46</td>\n      <td>0</td>\n      <td>Selina Puerto Escondido</td>\n    </tr>\n    <tr>\n      <th>13</th>\n      <td>Nouadhibou</td>\n      <td>MR</td>\n      <td>20.93</td>\n      <td>-17.03</td>\n      <td>73.40</td>\n      <td>4.70</td>\n      <td>0</td>\n      <td>Free Zone Hotel Nouadhibou</td>\n    </tr>\n    <tr>\n      <th>37</th>\n      <td>Três de Maio</td>\n      <td>BR</td>\n      <td>-27.77</td>\n      <td>-54.24</td>\n      <td>70.81</td>\n      <td>5.88</td>\n      <td>0</td>\n      <td>Franken Hotel</td>\n    </tr>\n    <tr>\n      <th>77</th>\n      <td>Teahupoo</td>\n      <td>PF</td>\n      <td>-17.83</td>\n      <td>-149.27</td>\n      <td>78.80</td>\n      <td>8.05</td>\n      <td>0</td>\n      <td>Vanira Lodge</td>\n    </tr>\n    <tr>\n      <th>122</th>\n      <td>Kiryat Gat</td>\n      <td>IL</td>\n      <td>31.61</td>\n      <td>34.76</td>\n      <td>79.00</td>\n      <td>3.18</td>\n      <td>0</td>\n      <td>Desert Gat</td>\n    </tr>\n    <tr>\n      <th>192</th>\n      <td>Vao</td>\n      <td>NC</td>\n      <td>-22.67</td>\n      <td>167.48</td>\n      <td>74.98</td>\n      <td>9.17</td>\n      <td>0</td>\n      <td>OURE TERA beach resort</td>\n    </tr>\n    <tr>\n      <th>215</th>\n      <td>Tura</td>\n      <td>IN</td>\n      <td>25.52</td>\n      <td>90.22</td>\n      <td>77.36</td>\n      <td>2.59</td>\n      <td>0</td>\n      <td>Hotel Polo Orchid</td>\n    </tr>\n    <tr>\n      <th>277</th>\n      <td>Tautira</td>\n      <td>PF</td>\n      <td>-17.73</td>\n      <td>-149.15</td>\n      <td>78.80</td>\n      <td>8.05</td>\n      <td>0</td>\n      <td>NaN</td>\n    </tr>\n    <tr>\n      <th>369</th>\n      <td>Florianópolis</td>\n      <td>BR</td>\n      <td>-27.61</td>\n      <td>-48.50</td>\n      <td>75.00</td>\n      <td>1.12</td>\n      <td>0</td>\n      <td>Majestic Palace Hotel</td>\n    </tr>\n    <tr>\n      <th>379</th>\n      <td>Hervey Bay</td>\n      <td>AU</td>\n      <td>-25.30</td>\n      <td>152.85</td>\n      <td>78.01</td>\n      <td>4.00</td>\n      <td>0</td>\n      <td>Oaks Hervey Bay Resort and Spa</td>\n    </tr>\n    <tr>\n      <th>382</th>\n      <td>Nicoya</td>\n      <td>CR</td>\n      <td>10.15</td>\n      <td>-85.45</td>\n      <td>72.43</td>\n      <td>2.06</td>\n      <td>0</td>\n      <td>Hotel Doña Marta</td>\n    </tr>\n    <tr>\n      <th>383</th>\n      <td>São João da Barra</td>\n      <td>BR</td>\n      <td>-21.64</td>\n      <td>-41.05</td>\n      <td>75.20</td>\n      <td>2.24</td>\n      <td>0</td>\n      <td>OYO Pousada Mediterrâneo</td>\n    </tr>\n    <tr>\n      <th>477</th>\n      <td>Myitkyina</td>\n      <td>MM</td>\n      <td>25.38</td>\n      <td>97.40</td>\n      <td>78.39</td>\n      <td>1.25</td>\n      <td>0</td>\n      <td>Hotel Hukaung</td>\n    </tr>\n    <tr>\n      <th>482</th>\n      <td>Along</td>\n      <td>IN</td>\n      <td>28.17</td>\n      <td>94.77</td>\n      <td>73.06</td>\n      <td>0.38</td>\n      <td>0</td>\n      <td>Hotel Min-Ta</td>\n    </tr>\n    <tr>\n      <th>553</th>\n      <td>Nouakchott</td>\n      <td>MR</td>\n      <td>18.09</td>\n      <td>-15.98</td>\n      <td>78.80</td>\n      <td>5.82</td>\n      <td>0</td>\n      <td>AZALAÏ HOTEL NOUAKCHOTT (MARHABA )</td>\n    </tr>\n  </tbody>\n</table>\n</div>"
     },
     "metadata": {},
     "execution_count": 5
    }
   ],
   "source": [
    "# Loop through hotel_df with api calls\n",
    "for index, row in hotel_df.iterrows():\n",
    "    try:\n",
    "        \n",
    "        base_url = \"https://maps.googleapis.com/maps/api/place/nearbysearch/json\"\n",
    "\n",
    "        params = {\n",
    "        \"keyword\": \"hotel\",\n",
    "        \"radius\": 5000,\n",
    "        \"key\": gkey,\n",
    "        }\n",
    "\n",
    "\n",
    "        lat = row[\"Latitude\"]\n",
    "        lng = row[\"Longitude\"]\n",
    "\n",
    "        params[\"location\"] = f\"{lat}, {lng}\"\n",
    "\n",
    "        hotel_data = requests.get(base_url, params=params).json()\n",
    "        \n",
    "        hotel_df.loc[index, \"Hotel Name\"] = hotel_data[\"results\"][0][\"name\"]\n",
    "        \n",
    "    except IndexError:\n",
    "        \n",
    "        hotel_df.loc[index, \"Hotel Name\"] = \"NaN\"\n",
    "      \n",
    "hotel_df"
   ]
  },
  {
   "cell_type": "code",
   "execution_count": 6,
   "metadata": {},
   "outputs": [
    {
     "output_type": "execute_result",
     "data": {
      "text/plain": [
       "                  City Country  Latitude  Longitude  Max Temperature  \\\n",
       "5     Puerto Escondido      MX     15.85     -97.07            77.67   \n",
       "13          Nouadhibou      MR     20.93     -17.03            73.40   \n",
       "37        Três de Maio      BR    -27.77     -54.24            70.81   \n",
       "77            Teahupoo      PF    -17.83    -149.27            78.80   \n",
       "122         Kiryat Gat      IL     31.61      34.76            79.00   \n",
       "192                Vao      NC    -22.67     167.48            74.98   \n",
       "215               Tura      IN     25.52      90.22            77.36   \n",
       "369      Florianópolis      BR    -27.61     -48.50            75.00   \n",
       "379         Hervey Bay      AU    -25.30     152.85            78.01   \n",
       "382             Nicoya      CR     10.15     -85.45            72.43   \n",
       "383  São João da Barra      BR    -21.64     -41.05            75.20   \n",
       "477          Myitkyina      MM     25.38      97.40            78.39   \n",
       "482              Along      IN     28.17      94.77            73.06   \n",
       "553         Nouakchott      MR     18.09     -15.98            78.80   \n",
       "\n",
       "     Wind Speed  Cloudiness                          Hotel Name  \n",
       "5          5.46           0             Selina Puerto Escondido  \n",
       "13         4.70           0          Free Zone Hotel Nouadhibou  \n",
       "37         5.88           0                       Franken Hotel  \n",
       "77         8.05           0                        Vanira Lodge  \n",
       "122        3.18           0                          Desert Gat  \n",
       "192        9.17           0              OURE TERA beach resort  \n",
       "215        2.59           0                   Hotel Polo Orchid  \n",
       "369        1.12           0               Majestic Palace Hotel  \n",
       "379        4.00           0      Oaks Hervey Bay Resort and Spa  \n",
       "382        2.06           0                    Hotel Doña Marta  \n",
       "383        2.24           0            OYO Pousada Mediterrâneo  \n",
       "477        1.25           0                       Hotel Hukaung  \n",
       "482        0.38           0                        Hotel Min-Ta  \n",
       "553        5.82           0  AZALAÏ HOTEL NOUAKCHOTT (MARHABA )  "
      ],
      "text/html": "<div>\n<style scoped>\n    .dataframe tbody tr th:only-of-type {\n        vertical-align: middle;\n    }\n\n    .dataframe tbody tr th {\n        vertical-align: top;\n    }\n\n    .dataframe thead th {\n        text-align: right;\n    }\n</style>\n<table border=\"1\" class=\"dataframe\">\n  <thead>\n    <tr style=\"text-align: right;\">\n      <th></th>\n      <th>City</th>\n      <th>Country</th>\n      <th>Latitude</th>\n      <th>Longitude</th>\n      <th>Max Temperature</th>\n      <th>Wind Speed</th>\n      <th>Cloudiness</th>\n      <th>Hotel Name</th>\n    </tr>\n  </thead>\n  <tbody>\n    <tr>\n      <th>5</th>\n      <td>Puerto Escondido</td>\n      <td>MX</td>\n      <td>15.85</td>\n      <td>-97.07</td>\n      <td>77.67</td>\n      <td>5.46</td>\n      <td>0</td>\n      <td>Selina Puerto Escondido</td>\n    </tr>\n    <tr>\n      <th>13</th>\n      <td>Nouadhibou</td>\n      <td>MR</td>\n      <td>20.93</td>\n      <td>-17.03</td>\n      <td>73.40</td>\n      <td>4.70</td>\n      <td>0</td>\n      <td>Free Zone Hotel Nouadhibou</td>\n    </tr>\n    <tr>\n      <th>37</th>\n      <td>Três de Maio</td>\n      <td>BR</td>\n      <td>-27.77</td>\n      <td>-54.24</td>\n      <td>70.81</td>\n      <td>5.88</td>\n      <td>0</td>\n      <td>Franken Hotel</td>\n    </tr>\n    <tr>\n      <th>77</th>\n      <td>Teahupoo</td>\n      <td>PF</td>\n      <td>-17.83</td>\n      <td>-149.27</td>\n      <td>78.80</td>\n      <td>8.05</td>\n      <td>0</td>\n      <td>Vanira Lodge</td>\n    </tr>\n    <tr>\n      <th>122</th>\n      <td>Kiryat Gat</td>\n      <td>IL</td>\n      <td>31.61</td>\n      <td>34.76</td>\n      <td>79.00</td>\n      <td>3.18</td>\n      <td>0</td>\n      <td>Desert Gat</td>\n    </tr>\n    <tr>\n      <th>192</th>\n      <td>Vao</td>\n      <td>NC</td>\n      <td>-22.67</td>\n      <td>167.48</td>\n      <td>74.98</td>\n      <td>9.17</td>\n      <td>0</td>\n      <td>OURE TERA beach resort</td>\n    </tr>\n    <tr>\n      <th>215</th>\n      <td>Tura</td>\n      <td>IN</td>\n      <td>25.52</td>\n      <td>90.22</td>\n      <td>77.36</td>\n      <td>2.59</td>\n      <td>0</td>\n      <td>Hotel Polo Orchid</td>\n    </tr>\n    <tr>\n      <th>369</th>\n      <td>Florianópolis</td>\n      <td>BR</td>\n      <td>-27.61</td>\n      <td>-48.50</td>\n      <td>75.00</td>\n      <td>1.12</td>\n      <td>0</td>\n      <td>Majestic Palace Hotel</td>\n    </tr>\n    <tr>\n      <th>379</th>\n      <td>Hervey Bay</td>\n      <td>AU</td>\n      <td>-25.30</td>\n      <td>152.85</td>\n      <td>78.01</td>\n      <td>4.00</td>\n      <td>0</td>\n      <td>Oaks Hervey Bay Resort and Spa</td>\n    </tr>\n    <tr>\n      <th>382</th>\n      <td>Nicoya</td>\n      <td>CR</td>\n      <td>10.15</td>\n      <td>-85.45</td>\n      <td>72.43</td>\n      <td>2.06</td>\n      <td>0</td>\n      <td>Hotel Doña Marta</td>\n    </tr>\n    <tr>\n      <th>383</th>\n      <td>São João da Barra</td>\n      <td>BR</td>\n      <td>-21.64</td>\n      <td>-41.05</td>\n      <td>75.20</td>\n      <td>2.24</td>\n      <td>0</td>\n      <td>OYO Pousada Mediterrâneo</td>\n    </tr>\n    <tr>\n      <th>477</th>\n      <td>Myitkyina</td>\n      <td>MM</td>\n      <td>25.38</td>\n      <td>97.40</td>\n      <td>78.39</td>\n      <td>1.25</td>\n      <td>0</td>\n      <td>Hotel Hukaung</td>\n    </tr>\n    <tr>\n      <th>482</th>\n      <td>Along</td>\n      <td>IN</td>\n      <td>28.17</td>\n      <td>94.77</td>\n      <td>73.06</td>\n      <td>0.38</td>\n      <td>0</td>\n      <td>Hotel Min-Ta</td>\n    </tr>\n    <tr>\n      <th>553</th>\n      <td>Nouakchott</td>\n      <td>MR</td>\n      <td>18.09</td>\n      <td>-15.98</td>\n      <td>78.80</td>\n      <td>5.82</td>\n      <td>0</td>\n      <td>AZALAÏ HOTEL NOUAKCHOTT (MARHABA )</td>\n    </tr>\n  </tbody>\n</table>\n</div>"
     },
     "metadata": {},
     "execution_count": 6
    }
   ],
   "source": [
    "# Drop the ones with NaN in Hotel Name column\n",
    "hotel_df = hotel_df[hotel_df[\"Hotel Name\"] != \"NaN\"]\n",
    "hotel_df"
   ]
  },
  {
   "source": [
    "- Plot the hotels on top of the humidity heatmap with each pin containing the Hotel Name, City, and Country."
   ],
   "cell_type": "markdown",
   "metadata": {}
  },
  {
   "cell_type": "code",
   "execution_count": 7,
   "metadata": {},
   "outputs": [],
   "source": [
    "# Grabbing from stater_code\n",
    "# NOTE: Do not change any of the code in this cell\n",
    "\n",
    "# Using the template add the hotel marks to the heatmap\n",
    "info_box_template = \"\"\"\n",
    "<dl>\n",
    "<dt>Name</dt><dd>{Hotel Name}</dd>\n",
    "<dt>City</dt><dd>{City}</dd>\n",
    "<dt>Country</dt><dd>{Country}</dd>\n",
    "</dl>\n",
    "\"\"\"\n",
    "\n",
    "\n",
    "# Store the DataFrame Row\n",
    "# NOTE: be sure to update with your DataFrame name\n",
    "hotel_info = [info_box_template.format(**row) for index, row in hotel_df.iterrows()]\n",
    "locations = hotel_df[[\"Latitude\", \"Longitude\"]]"
   ]
  },
  {
   "cell_type": "code",
   "execution_count": 8,
   "metadata": {},
   "outputs": [
    {
     "output_type": "display_data",
     "data": {
      "text/plain": "Figure(layout=FigureLayout(height='420px'))",
      "application/vnd.jupyter.widget-view+json": {
       "version_major": 2,
       "version_minor": 0,
       "model_id": "28fc16665bfe41c2b6235eeb3d37eac6"
      }
     },
     "metadata": {}
    }
   ],
   "source": [
    "\n",
    "# Add marker layer ontop of heat map\n",
    "# Display figure\n",
    "markers = gmaps.marker_layer(locations, info_box_content= hotel_info)\n",
    "fig.add_layer(markers)\n",
    "fig\n",
    "\n"
   ]
  },
  {
   "cell_type": "code",
   "execution_count": null,
   "metadata": {},
   "outputs": [],
   "source": []
  }
 ]
}